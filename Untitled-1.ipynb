{
 "cells": [
  {
   "cell_type": "code",
   "execution_count": 15,
   "id": "86dcc7cf",
   "metadata": {},
   "outputs": [],
   "source": [
    "import pymongo\n",
    "from bson import ObjectId"
   ]
  },
  {
   "cell_type": "code",
   "execution_count": 16,
   "id": "0faf81b6",
   "metadata": {},
   "outputs": [
    {
     "data": {
      "text/plain": [
       "MongoClient(host=['localhost:27017'], document_class=dict, tz_aware=False, connect=True)"
      ]
     },
     "execution_count": 16,
     "metadata": {},
     "output_type": "execute_result"
    }
   ],
   "source": [
    "client = pymongo.MongoClient()\n",
    "client"
   ]
  },
  {
   "cell_type": "code",
   "execution_count": 17,
   "id": "7a68f73a",
   "metadata": {},
   "outputs": [
    {
     "data": {
      "text/plain": [
       "Database(MongoClient(host=['localhost:27017'], document_class=dict, tz_aware=False, connect=True), 'flashcards')"
      ]
     },
     "execution_count": 17,
     "metadata": {},
     "output_type": "execute_result"
    }
   ],
   "source": [
    "db = client['flashcards']\n",
    "db"
   ]
  },
  {
   "cell_type": "code",
   "execution_count": 18,
   "id": "b4175003",
   "metadata": {},
   "outputs": [
    {
     "data": {
      "text/plain": [
       "['6801fc62580b5a9f9fcb7532', '6801fc87580b5a9f9fcb7536']"
      ]
     },
     "execution_count": 18,
     "metadata": {},
     "output_type": "execute_result"
    }
   ],
   "source": [
    "tid = '67fa127113a397044b42e30a'\n",
    "quiz_ids = [str(q['_id']) for q in db.quizes.find({'topic_id': ObjectId(tid)}, {'_id': 1}).to_list()]\n",
    "quiz_ids"
   ]
  },
  {
   "cell_type": "code",
   "execution_count": 20,
   "id": "05ff6339",
   "metadata": {},
   "outputs": [
    {
     "data": {
      "text/plain": [
       "[{'totalAttempts': 2,\n",
       "  'correctCount': 2,\n",
       "  'wrongCount': 0,\n",
       "  'lastAttempt': datetime.datetime(2025, 4, 18, 17, 17, 32, 630000),\n",
       "  'qid': '0'},\n",
       " {'totalAttempts': 2,\n",
       "  'correctCount': 1,\n",
       "  'wrongCount': 1,\n",
       "  'lastAttempt': datetime.datetime(2025, 4, 18, 17, 17, 34, 39000),\n",
       "  'qid': '2'},\n",
       " {'totalAttempts': 2,\n",
       "  'correctCount': 2,\n",
       "  'wrongCount': 0,\n",
       "  'lastAttempt': datetime.datetime(2025, 4, 18, 17, 17, 33, 341000),\n",
       "  'qid': '1'}]"
      ]
     },
     "execution_count": 20,
     "metadata": {},
     "output_type": "execute_result"
    }
   ],
   "source": [
    "db.quizes_log.aggregate([\n",
    "    {\n",
    "        \"$match\": {\n",
    "            \"event\": \"answered quizlet\",\n",
    "            \"data.quizid\": {\"$in\": quiz_ids}\n",
    "        }\n",
    "    },\n",
    "    {\n",
    "        '$sort': {\n",
    "            'timestamp': 1\n",
    "        }\n",
    "    },\n",
    "    {\n",
    "        '$group': {\n",
    "            '_id': {\"qid\": \"$data.questionid\"},\n",
    "            'totalAttempts': { '$sum': 1 },\n",
    "            'correctCount': {\n",
    "                '$sum': {\n",
    "                    '$cond': [{ '$eq': [\"$data.correct\", True] }, 1, 0]\n",
    "                }\n",
    "            },\n",
    "            'wrongCount': {\n",
    "                '$sum': {\n",
    "                    '$cond': [{ '$eq': [\"$data.correct\", False] }, 1, 0]\n",
    "                }\n",
    "            },\n",
    "            'lastAttempt': { '$last': \"$timestamp\" }\n",
    "        }\n",
    "    },\n",
    "    {\n",
    "        \"$project\": {\n",
    "            'quizid': '$_id.quizid',\n",
    "            'qid': '$_id.qid',\n",
    "            'totalAttempts': 1,\n",
    "            'correctCount': 1,\n",
    "            'wrongCount': 1,\n",
    "            'lastAttempt': 1,\n",
    "            '_id': 0\n",
    "        }\n",
    "    }\n",
    "]).to_list()"
   ]
  },
  {
   "cell_type": "code",
   "execution_count": null,
   "id": "e6c14c05",
   "metadata": {},
   "outputs": [],
   "source": []
  }
 ],
 "metadata": {
  "kernelspec": {
   "display_name": "FlashCards",
   "language": "python",
   "name": "python3"
  },
  "language_info": {
   "codemirror_mode": {
    "name": "ipython",
    "version": 3
   },
   "file_extension": ".py",
   "mimetype": "text/x-python",
   "name": "python",
   "nbconvert_exporter": "python",
   "pygments_lexer": "ipython3",
   "version": "3.9.6"
  }
 },
 "nbformat": 4,
 "nbformat_minor": 5
}
